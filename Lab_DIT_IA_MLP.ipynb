{
  "nbformat": 4,
  "nbformat_minor": 0,
  "metadata": {
    "colab": {
      "name": "Lab_DIT_IA_MLP.ipynb",
      "provenance": [],
      "machine_shape": "hm",
      "authorship_tag": "ABX9TyNI7Haww4FTYu/8LTRszopk",
      "include_colab_link": true
    },
    "kernelspec": {
      "name": "python3",
      "display_name": "Python 3"
    },
    "language_info": {
      "name": "python"
    },
    "accelerator": "GPU"
  },
  "cells": [
    {
      "cell_type": "markdown",
      "metadata": {
        "id": "view-in-github",
        "colab_type": "text"
      },
      "source": [
        "<a href=\"https://colab.research.google.com/github/MMB019/CoursDevops/blob/main/Lab_DIT_IA_MLP.ipynb\" target=\"_parent\"><img src=\"https://colab.research.google.com/assets/colab-badge.svg\" alt=\"Open In Colab\"/></a>"
      ]
    },
    {
      "cell_type": "code",
      "metadata": {
        "id": "o3hqNipft6rM"
      },
      "source": [
        "from keras.datasets import fashion_mnist #importation du datasets"
      ],
      "execution_count": null,
      "outputs": []
    },
    {
      "cell_type": "markdown",
      "metadata": {
        "id": "Uk13DE6AyKA4"
      },
      "source": [
        ""
      ]
    },
    {
      "cell_type": "code",
      "metadata": {
        "colab": {
          "base_uri": "https://localhost:8080/"
        },
        "id": "1IZSFnD2xbdK",
        "outputId": "d9723363-8a39-46e6-cd3d-6ba6c4f2a771"
      },
      "source": [
        "(X_train,y_train),(X_test,y_test) = fashion_mnist.load_data() #chargement et affectation des données\n",
        "\n",
        "X_train.shape,X_test.shape,y_train.shape,y_test.shape"
      ],
      "execution_count": null,
      "outputs": [
        {
          "output_type": "stream",
          "name": "stdout",
          "text": [
            "Downloading data from https://storage.googleapis.com/tensorflow/tf-keras-datasets/train-labels-idx1-ubyte.gz\n",
            "32768/29515 [=================================] - 0s 0us/step\n",
            "40960/29515 [=========================================] - 0s 0us/step\n",
            "Downloading data from https://storage.googleapis.com/tensorflow/tf-keras-datasets/train-images-idx3-ubyte.gz\n",
            "26427392/26421880 [==============================] - 1s 0us/step\n",
            "26435584/26421880 [==============================] - 1s 0us/step\n",
            "Downloading data from https://storage.googleapis.com/tensorflow/tf-keras-datasets/t10k-labels-idx1-ubyte.gz\n",
            "16384/5148 [===============================================================================================] - 0s 0us/step\n",
            "Downloading data from https://storage.googleapis.com/tensorflow/tf-keras-datasets/t10k-images-idx3-ubyte.gz\n",
            "4423680/4422102 [==============================] - 0s 0us/step\n",
            "4431872/4422102 [==============================] - 0s 0us/step\n"
          ]
        },
        {
          "output_type": "execute_result",
          "data": {
            "text/plain": [
              "((60000, 28, 28), (10000, 28, 28), (60000,), (10000,))"
            ]
          },
          "metadata": {},
          "execution_count": 3
        }
      ]
    },
    {
      "cell_type": "code",
      "metadata": {
        "colab": {
          "base_uri": "https://localhost:8080/",
          "height": 265
        },
        "id": "FyZe6h_fyMXP",
        "outputId": "9fcaf0d1-e8c8-4d6c-9320-305dd27c3e38"
      },
      "source": [
        "import matplotlib.pyplot as plt\n",
        "\n",
        "\n",
        "plt.imshow(X_train[0])\n",
        "plt.show()"
      ],
      "execution_count": null,
      "outputs": [
        {
          "output_type": "display_data",
          "data": {
            "image/png": "[encoded data removed]",
            "text/plain": [
              "<Figure size 432x288 with 1 Axes>"
            ]
          },
          "metadata": {
            "needs_background": "light"
          }
        }
      ]
    },
    {
      "cell_type": "code",
      "metadata": {
        "id": "WGvpE6VOyghx"
      },
      "source": [
        "from tensorflow.keras.utils import to_categorical\n",
        "\n",
        "y_train_enc=to_categorical(y_train,10)\n",
        "y_test_enc=to_categorical(y_test,10)\n",
        "\n",
        "x_train=X_train / 255\n",
        "x_test=X_test /255\n",
        "\n",
        "x_train_norm=x_train.reshape(x_train.shape[0],28*28)\n",
        "x_test_norm=x_test.reshape(x_test.shape[0],28*28)"
      ],
      "execution_count": null,
      "outputs": []
    },
    {
      "cell_type": "code",
      "metadata": {
        "colab": {
          "base_uri": "https://localhost:8080/"
        },
        "id": "V1MToN4w0s-T",
        "outputId": "314804a6-61f6-454e-8a6d-82cf59ad9ca1"
      },
      "source": [
        "x_train_norm.shape, y_train.shape, x_test_norm.shape,y_test_enc.shape"
      ],
      "execution_count": null,
      "outputs": [
        {
          "output_type": "execute_result",
          "data": {
            "text/plain": [
              "((60000, 784), (60000,), (10000, 784), (10000, 10))"
            ]
          },
          "metadata": {},
          "execution_count": 6
        }
      ]
    },
    {
      "cell_type": "code",
      "metadata": {
        "id": "48PFohnd18zR"
      },
      "source": [
        "from tensorflow.keras.models import Sequential\n",
        "from tensorflow.keras.layers import Dense,MaxPool2D,Conv2D,Flatten,Input"
      ],
      "execution_count": null,
      "outputs": []
    },
    {
      "cell_type": "code",
      "metadata": {
        "id": "D9BC3Zgd3b5n"
      },
      "source": [
        "def get_model(input_shape,classes):\n",
        "  model=Sequential()\n",
        "\n",
        "  model.add(Input(input_shape))\n",
        "  model.add(Dense(units=64, activation=\"relu\"))\n",
        "  model.add(Dense(units=16, activation=\"relu\"))\n",
        "\n",
        "  model.add(Flatten())\n",
        "\n",
        "  model.add(Dense(units=120, activation=\"relu\"))\n",
        "  model.add(Dense(units=84, activation=\"relu\"))\n",
        "  model.add(Dense(units=classes, activation=\"softmax\"))\n",
        "  return model\n"
      ],
      "execution_count": null,
      "outputs": []
    },
    {
      "cell_type": "code",
      "metadata": {
        "colab": {
          "base_uri": "https://localhost:8080/"
        },
        "id": "0ndCdWEJ6S1p",
        "outputId": "a004a895-f014-40e4-b4e4-3a164c566ca3"
      },
      "source": [
        "model=get_model(input_shape=28*28,classes=10)\n",
        "model.summary()"
      ],
      "execution_count": null,
      "outputs": [
        {
          "output_type": "stream",
          "name": "stdout",
          "text": [
            "Model: \"sequential_2\"\n",
            "_________________________________________________________________\n",
            " Layer (type)                Output Shape              Param #   \n",
            "=================================================================\n",
            " dense_5 (Dense)             (None, 64)                50240     \n",
            "                                                                 \n",
            " dense_6 (Dense)             (None, 16)                1040      \n",
            "                                                                 \n",
            " flatten_1 (Flatten)         (None, 16)                0         \n",
            "                                                                 \n",
            " dense_7 (Dense)             (None, 120)               2040      \n",
            "                                                                 \n",
            " dense_8 (Dense)             (None, 84)                10164     \n",
            "                                                                 \n",
            " dense_9 (Dense)             (None, 10)                850       \n",
            "                                                                 \n",
            "=================================================================\n",
            "Total params: 64,334\n",
            "Trainable params: 64,334\n",
            "Non-trainable params: 0\n",
            "_________________________________________________________________\n"
          ]
        }
      ]
    },
    {
      "cell_type": "code",
      "metadata": {
        "id": "3VTgpUUU6l7i"
      },
      "source": [
        "model.compile(optimizer=\"adam\",loss=\"categorical_crossentropy\",metrics=['accuracy'])"
      ],
      "execution_count": null,
      "outputs": []
    },
    {
      "cell_type": "code",
      "metadata": {
        "colab": {
          "base_uri": "https://localhost:8080/"
        },
        "id": "r-uZSHwI6zLY",
        "outputId": "9c545fb3-9d13-4a54-c8a9-4e5b942aecb1"
      },
      "source": [
        "model.fit(x_train_norm,y_train_enc,epochs=100,batch_size=64, validation_data=(x_test_norm,y_test_enc))"
      ],
      "execution_count": null,
      "outputs": [
        {
          "output_type": "stream",
          "name": "stdout",
          "text": [
            "Epoch 1/100\n",
            "938/938 [==============================] - 3s 3ms/step - loss: 0.2298 - accuracy: 0.9130 - val_loss: 0.3515 - val_accuracy: 0.8802\n",
            "Epoch 2/100\n",
            "938/938 [==============================] - 3s 3ms/step - loss: 0.2231 - accuracy: 0.9153 - val_loss: 0.3580 - val_accuracy: 0.8768\n",
            "Epoch 3/100\n",
            "938/938 [==============================] - 2s 3ms/step - loss: 0.2201 - accuracy: 0.9167 - val_loss: 0.3517 - val_accuracy: 0.8788\n",
            "Epoch 4/100\n",
            "938/938 [==============================] - 3s 3ms/step - loss: 0.2167 - accuracy: 0.9176 - val_loss: 0.3893 - val_accuracy: 0.8762\n",
            "Epoch 5/100\n",
            "938/938 [==============================] - 2s 3ms/step - loss: 0.2105 - accuracy: 0.9205 - val_loss: 0.3664 - val_accuracy: 0.8808\n",
            "Epoch 6/100\n",
            "938/938 [==============================] - 2s 3ms/step - loss: 0.2060 - accuracy: 0.9212 - val_loss: 0.3559 - val_accuracy: 0.8844\n",
            "Epoch 7/100\n",
            "938/938 [==============================] - 2s 3ms/step - loss: 0.2026 - accuracy: 0.9226 - val_loss: 0.3758 - val_accuracy: 0.8831\n",
            "Epoch 8/100\n",
            "938/938 [==============================] - 2s 3ms/step - loss: 0.2010 - accuracy: 0.9236 - val_loss: 0.3906 - val_accuracy: 0.8761\n",
            "Epoch 9/100\n",
            "938/938 [==============================] - 2s 3ms/step - loss: 0.1948 - accuracy: 0.9260 - val_loss: 0.3606 - val_accuracy: 0.8894\n",
            "Epoch 10/100\n",
            "938/938 [==============================] - 3s 3ms/step - loss: 0.1926 - accuracy: 0.9268 - val_loss: 0.3715 - val_accuracy: 0.8854\n",
            "Epoch 11/100\n",
            "938/938 [==============================] - 3s 3ms/step - loss: 0.1899 - accuracy: 0.9278 - val_loss: 0.3590 - val_accuracy: 0.8835\n",
            "Epoch 12/100\n",
            "938/938 [==============================] - 2s 3ms/step - loss: 0.1860 - accuracy: 0.9281 - val_loss: 0.3725 - val_accuracy: 0.8843\n",
            "Epoch 13/100\n",
            "938/938 [==============================] - 2s 3ms/step - loss: 0.1857 - accuracy: 0.9291 - val_loss: 0.3713 - val_accuracy: 0.8790\n",
            "Epoch 14/100\n",
            "938/938 [==============================] - 2s 3ms/step - loss: 0.1776 - accuracy: 0.9326 - val_loss: 0.3879 - val_accuracy: 0.8879\n",
            "Epoch 15/100\n",
            "938/938 [==============================] - 3s 3ms/step - loss: 0.1788 - accuracy: 0.9310 - val_loss: 0.3802 - val_accuracy: 0.8799\n",
            "Epoch 16/100\n",
            "938/938 [==============================] - 3s 3ms/step - loss: 0.1749 - accuracy: 0.9325 - val_loss: 0.3886 - val_accuracy: 0.8803\n",
            "Epoch 17/100\n",
            "938/938 [==============================] - 3s 3ms/step - loss: 0.1748 - accuracy: 0.9333 - val_loss: 0.4135 - val_accuracy: 0.8789\n",
            "Epoch 18/100\n",
            "938/938 [==============================] - 3s 3ms/step - loss: 0.1703 - accuracy: 0.9355 - val_loss: 0.3991 - val_accuracy: 0.8846\n",
            "Epoch 19/100\n",
            "938/938 [==============================] - 3s 3ms/step - loss: 0.1674 - accuracy: 0.9355 - val_loss: 0.4058 - val_accuracy: 0.8865\n",
            "Epoch 20/100\n",
            "938/938 [==============================] - 3s 3ms/step - loss: 0.1657 - accuracy: 0.9360 - val_loss: 0.4097 - val_accuracy: 0.8878\n",
            "Epoch 21/100\n",
            "938/938 [==============================] - 2s 3ms/step - loss: 0.1647 - accuracy: 0.9371 - val_loss: 0.3845 - val_accuracy: 0.8854\n",
            "Epoch 22/100\n",
            "938/938 [==============================] - 3s 3ms/step - loss: 0.1588 - accuracy: 0.9397 - val_loss: 0.4055 - val_accuracy: 0.8870\n",
            "Epoch 23/100\n",
            "938/938 [==============================] - 3s 3ms/step - loss: 0.1593 - accuracy: 0.9388 - val_loss: 0.4068 - val_accuracy: 0.8844\n",
            "Epoch 24/100\n",
            "938/938 [==============================] - 3s 3ms/step - loss: 0.1593 - accuracy: 0.9387 - val_loss: 0.4271 - val_accuracy: 0.8833\n",
            "Epoch 25/100\n",
            "938/938 [==============================] - 2s 3ms/step - loss: 0.1563 - accuracy: 0.9410 - val_loss: 0.3996 - val_accuracy: 0.8861\n",
            "Epoch 26/100\n",
            "938/938 [==============================] - 2s 3ms/step - loss: 0.1544 - accuracy: 0.9396 - val_loss: 0.4166 - val_accuracy: 0.8867\n",
            "Epoch 27/100\n",
            "938/938 [==============================] - 2s 3ms/step - loss: 0.1506 - accuracy: 0.9426 - val_loss: 0.4595 - val_accuracy: 0.8842\n",
            "Epoch 28/100\n",
            "938/938 [==============================] - 2s 3ms/step - loss: 0.1506 - accuracy: 0.9419 - val_loss: 0.4447 - val_accuracy: 0.8861\n",
            "Epoch 29/100\n",
            "938/938 [==============================] - 3s 3ms/step - loss: 0.1464 - accuracy: 0.9438 - val_loss: 0.4280 - val_accuracy: 0.8827\n",
            "Epoch 30/100\n",
            "938/938 [==============================] - 3s 3ms/step - loss: 0.1474 - accuracy: 0.9444 - val_loss: 0.4404 - val_accuracy: 0.8881\n",
            "Epoch 31/100\n",
            "938/938 [==============================] - 3s 3ms/step - loss: 0.1424 - accuracy: 0.9448 - val_loss: 0.4275 - val_accuracy: 0.8867\n",
            "Epoch 32/100\n",
            "938/938 [==============================] - 3s 3ms/step - loss: 0.1432 - accuracy: 0.9451 - val_loss: 0.4478 - val_accuracy: 0.8891\n",
            "Epoch 33/100\n",
            "938/938 [==============================] - 3s 3ms/step - loss: 0.1425 - accuracy: 0.9457 - val_loss: 0.4337 - val_accuracy: 0.8865\n",
            "Epoch 34/100\n",
            "938/938 [==============================] - 3s 3ms/step - loss: 0.1394 - accuracy: 0.9464 - val_loss: 0.4579 - val_accuracy: 0.8840\n",
            "Epoch 35/100\n",
            "938/938 [==============================] - 3s 3ms/step - loss: 0.1377 - accuracy: 0.9470 - val_loss: 0.4839 - val_accuracy: 0.8828\n",
            "Epoch 36/100\n",
            "938/938 [==============================] - 3s 3ms/step - loss: 0.1390 - accuracy: 0.9471 - val_loss: 0.4779 - val_accuracy: 0.8849\n",
            "Epoch 37/100\n",
            "938/938 [==============================] - 2s 3ms/step - loss: 0.1347 - accuracy: 0.9489 - val_loss: 0.4705 - val_accuracy: 0.8862\n",
            "Epoch 38/100\n",
            "938/938 [==============================] - 3s 3ms/step - loss: 0.1335 - accuracy: 0.9481 - val_loss: 0.4986 - val_accuracy: 0.8826\n",
            "Epoch 39/100\n",
            "938/938 [==============================] - 2s 3ms/step - loss: 0.1339 - accuracy: 0.9488 - val_loss: 0.4613 - val_accuracy: 0.8869\n",
            "Epoch 40/100\n",
            "938/938 [==============================] - 3s 3ms/step - loss: 0.1294 - accuracy: 0.9507 - val_loss: 0.5234 - val_accuracy: 0.8769\n",
            "Epoch 41/100\n",
            "938/938 [==============================] - 2s 3ms/step - loss: 0.1290 - accuracy: 0.9496 - val_loss: 0.5047 - val_accuracy: 0.8830\n",
            "Epoch 42/100\n",
            "938/938 [==============================] - 2s 3ms/step - loss: 0.1307 - accuracy: 0.9499 - val_loss: 0.4740 - val_accuracy: 0.8876\n",
            "Epoch 43/100\n",
            "938/938 [==============================] - 3s 3ms/step - loss: 0.1274 - accuracy: 0.9510 - val_loss: 0.4707 - val_accuracy: 0.8860\n",
            "Epoch 44/100\n",
            "938/938 [==============================] - 2s 3ms/step - loss: 0.1279 - accuracy: 0.9514 - val_loss: 0.5483 - val_accuracy: 0.8818\n",
            "Epoch 45/100\n",
            "938/938 [==============================] - 2s 3ms/step - loss: 0.1241 - accuracy: 0.9523 - val_loss: 0.4847 - val_accuracy: 0.8887\n",
            "Epoch 46/100\n",
            "938/938 [==============================] - 2s 3ms/step - loss: 0.1247 - accuracy: 0.9519 - val_loss: 0.4933 - val_accuracy: 0.8856\n",
            "Epoch 47/100\n",
            "938/938 [==============================] - 2s 3ms/step - loss: 0.1212 - accuracy: 0.9539 - val_loss: 0.5208 - val_accuracy: 0.8806\n",
            "Epoch 48/100\n",
            "938/938 [==============================] - 3s 3ms/step - loss: 0.1241 - accuracy: 0.9524 - val_loss: 0.5252 - val_accuracy: 0.8839\n",
            "Epoch 49/100\n",
            "938/938 [==============================] - 3s 3ms/step - loss: 0.1202 - accuracy: 0.9538 - val_loss: 0.5255 - val_accuracy: 0.8859\n",
            "Epoch 50/100\n",
            "938/938 [==============================] - 3s 3ms/step - loss: 0.1180 - accuracy: 0.9545 - val_loss: 0.5305 - val_accuracy: 0.8834\n",
            "Epoch 51/100\n",
            "938/938 [==============================] - 3s 3ms/step - loss: 0.1172 - accuracy: 0.9553 - val_loss: 0.5374 - val_accuracy: 0.8850\n",
            "Epoch 52/100\n",
            "938/938 [==============================] - 3s 3ms/step - loss: 0.1143 - accuracy: 0.9556 - val_loss: 0.5346 - val_accuracy: 0.8793\n",
            "Epoch 53/100\n",
            "938/938 [==============================] - 2s 3ms/step - loss: 0.1193 - accuracy: 0.9545 - val_loss: 0.5248 - val_accuracy: 0.8850\n",
            "Epoch 54/100\n",
            "938/938 [==============================] - 2s 3ms/step - loss: 0.1138 - accuracy: 0.9557 - val_loss: 0.5576 - val_accuracy: 0.8843\n",
            "Epoch 55/100\n",
            "938/938 [==============================] - 3s 3ms/step - loss: 0.1128 - accuracy: 0.9571 - val_loss: 0.5489 - val_accuracy: 0.8797\n",
            "Epoch 56/100\n",
            "938/938 [==============================] - 2s 3ms/step - loss: 0.1130 - accuracy: 0.9562 - val_loss: 0.5289 - val_accuracy: 0.8815\n",
            "Epoch 57/100\n",
            "938/938 [==============================] - 3s 3ms/step - loss: 0.1142 - accuracy: 0.9567 - val_loss: 0.5709 - val_accuracy: 0.8821\n",
            "Epoch 58/100\n",
            "938/938 [==============================] - 3s 3ms/step - loss: 0.1117 - accuracy: 0.9567 - val_loss: 0.5821 - val_accuracy: 0.8797\n",
            "Epoch 59/100\n",
            "938/938 [==============================] - 2s 3ms/step - loss: 0.1097 - accuracy: 0.9572 - val_loss: 0.5766 - val_accuracy: 0.8866\n",
            "Epoch 60/100\n",
            "938/938 [==============================] - 3s 3ms/step - loss: 0.1096 - accuracy: 0.9585 - val_loss: 0.5885 - val_accuracy: 0.8842\n",
            "Epoch 61/100\n",
            "938/938 [==============================] - 2s 3ms/step - loss: 0.1082 - accuracy: 0.9586 - val_loss: 0.5660 - val_accuracy: 0.8838\n",
            "Epoch 62/100\n",
            "938/938 [==============================] - 3s 3ms/step - loss: 0.1115 - accuracy: 0.9578 - val_loss: 0.5592 - val_accuracy: 0.8872\n",
            "Epoch 63/100\n",
            "938/938 [==============================] - 3s 3ms/step - loss: 0.1024 - accuracy: 0.9609 - val_loss: 0.5960 - val_accuracy: 0.8829\n",
            "Epoch 64/100\n",
            "938/938 [==============================] - 2s 3ms/step - loss: 0.1072 - accuracy: 0.9593 - val_loss: 0.5581 - val_accuracy: 0.8841\n",
            "Epoch 65/100\n",
            "938/938 [==============================] - 2s 3ms/step - loss: 0.0990 - accuracy: 0.9621 - val_loss: 0.6024 - val_accuracy: 0.8846\n",
            "Epoch 66/100\n",
            "938/938 [==============================] - 3s 3ms/step - loss: 0.1060 - accuracy: 0.9598 - val_loss: 0.6087 - val_accuracy: 0.8829\n",
            "Epoch 67/100\n",
            "938/938 [==============================] - 3s 3ms/step - loss: 0.1050 - accuracy: 0.9597 - val_loss: 0.5943 - val_accuracy: 0.8846\n",
            "Epoch 68/100\n",
            "938/938 [==============================] - 2s 3ms/step - loss: 0.1017 - accuracy: 0.9609 - val_loss: 0.5875 - val_accuracy: 0.8851\n",
            "Epoch 69/100\n",
            "938/938 [==============================] - 2s 3ms/step - loss: 0.0992 - accuracy: 0.9619 - val_loss: 0.6064 - val_accuracy: 0.8840\n",
            "Epoch 70/100\n",
            "938/938 [==============================] - 2s 3ms/step - loss: 0.1018 - accuracy: 0.9605 - val_loss: 0.5808 - val_accuracy: 0.8842\n",
            "Epoch 71/100\n",
            "938/938 [==============================] - 3s 3ms/step - loss: 0.0970 - accuracy: 0.9627 - val_loss: 0.6545 - val_accuracy: 0.8819\n",
            "Epoch 72/100\n",
            "938/938 [==============================] - 3s 3ms/step - loss: 0.0990 - accuracy: 0.9614 - val_loss: 0.6117 - val_accuracy: 0.8850\n",
            "Epoch 73/100\n",
            "938/938 [==============================] - 3s 3ms/step - loss: 0.0965 - accuracy: 0.9633 - val_loss: 0.6404 - val_accuracy: 0.8861\n",
            "Epoch 74/100\n",
            "938/938 [==============================] - 2s 3ms/step - loss: 0.1017 - accuracy: 0.9611 - val_loss: 0.6272 - val_accuracy: 0.8832\n",
            "Epoch 75/100\n",
            "938/938 [==============================] - 2s 3ms/step - loss: 0.0893 - accuracy: 0.9653 - val_loss: 0.6792 - val_accuracy: 0.8816\n",
            "Epoch 76/100\n",
            "938/938 [==============================] - 3s 3ms/step - loss: 0.0987 - accuracy: 0.9617 - val_loss: 0.6650 - val_accuracy: 0.8873\n",
            "Epoch 77/100\n",
            "938/938 [==============================] - 3s 3ms/step - loss: 0.0931 - accuracy: 0.9645 - val_loss: 0.6545 - val_accuracy: 0.8802\n",
            "Epoch 78/100\n",
            "938/938 [==============================] - 3s 3ms/step - loss: 0.0951 - accuracy: 0.9640 - val_loss: 0.6940 - val_accuracy: 0.8844\n",
            "Epoch 79/100\n",
            "938/938 [==============================] - 2s 3ms/step - loss: 0.0959 - accuracy: 0.9633 - val_loss: 0.6571 - val_accuracy: 0.8838\n",
            "Epoch 80/100\n",
            "938/938 [==============================] - 2s 3ms/step - loss: 0.0927 - accuracy: 0.9653 - val_loss: 0.6343 - val_accuracy: 0.8845\n",
            "Epoch 81/100\n",
            "938/938 [==============================] - 2s 3ms/step - loss: 0.0898 - accuracy: 0.9658 - val_loss: 0.6713 - val_accuracy: 0.8764\n",
            "Epoch 82/100\n",
            "938/938 [==============================] - 3s 3ms/step - loss: 0.0911 - accuracy: 0.9647 - val_loss: 0.6695 - val_accuracy: 0.8824\n",
            "Epoch 83/100\n",
            "938/938 [==============================] - 2s 3ms/step - loss: 0.0936 - accuracy: 0.9650 - val_loss: 0.7350 - val_accuracy: 0.8806\n",
            "Epoch 84/100\n",
            "938/938 [==============================] - 3s 3ms/step - loss: 0.0963 - accuracy: 0.9636 - val_loss: 0.6511 - val_accuracy: 0.8844\n",
            "Epoch 85/100\n",
            "938/938 [==============================] - 2s 3ms/step - loss: 0.0888 - accuracy: 0.9667 - val_loss: 0.6792 - val_accuracy: 0.8733\n",
            "Epoch 86/100\n",
            "938/938 [==============================] - 3s 3ms/step - loss: 0.0919 - accuracy: 0.9647 - val_loss: 0.6816 - val_accuracy: 0.8836\n",
            "Epoch 87/100\n",
            "938/938 [==============================] - 2s 3ms/step - loss: 0.0886 - accuracy: 0.9661 - val_loss: 0.7477 - val_accuracy: 0.8799\n",
            "Epoch 88/100\n",
            "938/938 [==============================] - 2s 3ms/step - loss: 0.0840 - accuracy: 0.9682 - val_loss: 0.7007 - val_accuracy: 0.8813\n",
            "Epoch 89/100\n",
            "938/938 [==============================] - 3s 3ms/step - loss: 0.0865 - accuracy: 0.9681 - val_loss: 0.7169 - val_accuracy: 0.8801\n",
            "Epoch 90/100\n",
            "938/938 [==============================] - 3s 3ms/step - loss: 0.0877 - accuracy: 0.9663 - val_loss: 0.7147 - val_accuracy: 0.8848\n",
            "Epoch 91/100\n",
            "938/938 [==============================] - 2s 3ms/step - loss: 0.0907 - accuracy: 0.9654 - val_loss: 0.6996 - val_accuracy: 0.8869\n",
            "Epoch 92/100\n",
            "938/938 [==============================] - 2s 3ms/step - loss: 0.0837 - accuracy: 0.9680 - val_loss: 0.7512 - val_accuracy: 0.8823\n",
            "Epoch 93/100\n",
            "938/938 [==============================] - 2s 3ms/step - loss: 0.0848 - accuracy: 0.9682 - val_loss: 0.7248 - val_accuracy: 0.8827\n",
            "Epoch 94/100\n",
            "938/938 [==============================] - 3s 3ms/step - loss: 0.0887 - accuracy: 0.9666 - val_loss: 0.7108 - val_accuracy: 0.8806\n",
            "Epoch 95/100\n",
            "938/938 [==============================] - 3s 3ms/step - loss: 0.0792 - accuracy: 0.9699 - val_loss: 0.7744 - val_accuracy: 0.8831\n",
            "Epoch 96/100\n",
            "938/938 [==============================] - 3s 3ms/step - loss: 0.0838 - accuracy: 0.9676 - val_loss: 0.6962 - val_accuracy: 0.8773\n",
            "Epoch 97/100\n",
            "938/938 [==============================] - 2s 3ms/step - loss: 0.0782 - accuracy: 0.9696 - val_loss: 0.7626 - val_accuracy: 0.8840\n",
            "Epoch 98/100\n",
            "938/938 [==============================] - 2s 3ms/step - loss: 0.0871 - accuracy: 0.9671 - val_loss: 0.7463 - val_accuracy: 0.8865\n",
            "Epoch 99/100\n",
            "938/938 [==============================] - 2s 3ms/step - loss: 0.0794 - accuracy: 0.9697 - val_loss: 0.7822 - val_accuracy: 0.8852\n",
            "Epoch 100/100\n",
            "938/938 [==============================] - 2s 3ms/step - loss: 0.0855 - accuracy: 0.9673 - val_loss: 0.8169 - val_accuracy: 0.8821\n"
          ]
        },
        {
          "output_type": "execute_result",
          "data": {
            "text/plain": [
              "<keras.callbacks.History at 0x7f91059f2d50>"
            ]
          },
          "metadata": {},
          "execution_count": 19
        }
      ]
    },
    {
      "cell_type": "code",
      "metadata": {
        "id": "NcrIHEldP54n"
      },
      "source": [
        ""
      ],
      "execution_count": null,
      "outputs": []
    },
    {
      "cell_type": "code",
      "metadata": {
        "id": "j-Zx9ev2P57K"
      },
      "source": [
        ""
      ],
      "execution_count": null,
      "outputs": []
    }
  ]
}